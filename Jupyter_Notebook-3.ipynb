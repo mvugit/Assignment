{
 "cells": [
  {
   "cell_type": "markdown",
   "metadata": {},
   "source": [
    "<center>\n",
    "    <img src=\"https://cf-courses-data.s3.us.cloud-object-storage.appdomain.cloud/IBMDeveloperSkillsNetwork-DS0105EN-SkillsNetwork/labs/Module2/images/SN_web_lightmode.png\" width=\"300\" alt=\"cognitiveclass.ai logo\">\n",
    "</center>\n"
   ]
  },
  {
   "cell_type": "markdown",
   "metadata": {},
   "source": [
    "#### Add your code below following the instructions given in the course\n"
   ]
  },
  {
   "cell_type": "markdown",
   "metadata": {},
   "source": [
    "# Assignment for the course <br>**Tools for Data Science**"
   ]
  },
  {
   "cell_type": "markdown",
   "metadata": {},
   "source": [
    "Introduction: <br>\n",
    "In the following several possibilities what you can do with Jupyter Notebook are explained and shown"
   ]
  },
  {
   "cell_type": "markdown",
   "metadata": {},
   "source": [
    "Languages for Data Science\n",
    "1. Python\n",
    "1. R\n",
    "1. SQL\n",
    "1. Scala\n",
    "1. Java\n",
    "1. Julia\n",
    "1. C++\n",
    "1. Javascript\n",
    "1. PHO\n",
    "1. Go"
   ]
  },
  {
   "cell_type": "markdown",
   "metadata": {},
   "source": [
    "Data Science Libraries:\n",
    "* Pandas\n",
    "* SciPy\n",
    "* Matplotlib\n",
    "* NumPy\n",
    "* Tensorflow\n",
    "* PyTorch\n",
    "* ApacheSpark\n",
    "* SciKit learn lib"
   ]
  },
  {
   "cell_type": "markdown",
   "metadata": {},
   "source": [
    "Data Science Tools:\n",
    "<br>\n",
    "| Data Management  | Data Visualisation | Commercial Tools | DataIntegration| \n",
    "| --- | --- | --- | --- |\n",
    "| mySQL | Hue | WatsonStudioDesktop | ApacheAirflow |\n",
    "| ApacheCouchDB | Kibana | MySql database | KubeFlow |\n",
    "| postgreSQL | ApacheSuperset | SPSS modeler | ApacheKafka |\n",
    "| ApacheCassandra | --- | IBMPowerBI | NodeRed |\n"
   ]
  },
  {
   "cell_type": "markdown",
   "metadata": {},
   "source": [
    "Arithmetic Expression:\n",
    "123+345*123\n"
   ]
  },
  {
   "cell_type": "code",
   "execution_count": 5,
   "metadata": {},
   "outputs": [
    {
     "data": {
      "text/plain": [
       "42558"
      ]
     },
     "execution_count": 5,
     "metadata": {},
     "output_type": "execute_result"
    }
   ],
   "source": [
    "(123+345*123)"
   ]
  },
  {
   "cell_type": "markdown",
   "metadata": {},
   "source": [
    "What are 1234 minutes in hours?"
   ]
  },
  {
   "cell_type": "code",
   "execution_count": 6,
   "metadata": {},
   "outputs": [
    {
     "data": {
      "text/plain": [
       "20.566666666666666"
      ]
     },
     "execution_count": 6,
     "metadata": {},
     "output_type": "execute_result"
    }
   ],
   "source": [
    "1234/60"
   ]
  },
  {
   "cell_type": "markdown",
   "metadata": {},
   "source": [
    "Objectives:\n",
    "- Creating a Jupyter Notebook using Skills Network LTI \n",
    "- Create Markdown and code cells\n",
    "- share it via a public link "
   ]
  },
  {
   "cell_type": "markdown",
   "metadata": {},
   "source": [
    "Authors Name: M. Umbach"
   ]
  },
  {
   "cell_type": "code",
   "execution_count": null,
   "metadata": {},
   "outputs": [],
   "source": []
  }
 ],
 "metadata": {
  "kernelspec": {
   "display_name": "Python",
   "language": "python",
   "name": "conda-env-python-py"
  },
  "language_info": {
   "codemirror_mode": {
    "name": "ipython",
    "version": 3
   },
   "file_extension": ".py",
   "mimetype": "text/x-python",
   "name": "python",
   "nbconvert_exporter": "python",
   "pygments_lexer": "ipython3",
   "version": "3.7.12"
  }
 },
 "nbformat": 4,
 "nbformat_minor": 4
}
