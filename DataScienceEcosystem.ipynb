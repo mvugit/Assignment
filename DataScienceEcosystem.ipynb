{
 "cells": [
  {
   "cell_type": "markdown",
   "id": "b0d9cf48-5143-44e9-81c8-7fe942af0a1a",
   "metadata": {},
   "source": [
    "# Data Science Tools and Ecosystem"
   ]
  },
  {
   "cell_type": "markdown",
   "id": "7df90e4e-be94-47e6-ba16-9efaa960ea0e",
   "metadata": {},
   "source": [
    "In this notebook, Data Science Tools and Ecosystem are summarized."
   ]
  },
  {
   "cell_type": "markdown",
   "id": "b7d2a3c4-ff39-4652-8a48-9d19a797aa86",
   "metadata": {},
   "source": [
    "Objectives:\n",
    "- List popular Data Science languages\n",
    "- list data science libraries\n",
    "- list data science tools\n",
    "- show different arithmetic expressions\n",
    "- make a table with one column\n",
    "- calculate minutes to hours"
   ]
  },
  {
   "cell_type": "markdown",
   "id": "14e57ee0-e7a7-46b4-a1b5-3421971d7cf1",
   "metadata": {},
   "source": [
    "Some of the popular languages that Data Scientists use are:\n",
    "1. Python\n",
    "1. SQL\n",
    "1. R\n",
    "1. Scala"
   ]
  },
  {
   "cell_type": "markdown",
   "id": "7548449a-5ca9-4d8e-9a0d-3d41c40b03f2",
   "metadata": {},
   "source": [
    "Some of the commonly used libraries used by Data Scientists include:\n",
    "1. Pandas\n",
    "1. TensorFlow\n",
    "1. MatPlotLib\n",
    "1. PyTorch"
   ]
  },
  {
   "cell_type": "markdown",
   "id": "6408e411-a2a3-4a4f-8c27-847ade92ca9a",
   "metadata": {},
   "source": [
    "|Data Science Tools|\n",
    "|:-:|\n",
    "|RStudio|\n",
    "|Jupyter Notebook|\n",
    "|github|"
   ]
  },
  {
   "cell_type": "markdown",
   "id": "07e525be-5bce-4c60-b086-91167313fe39",
   "metadata": {},
   "source": [
    "### Below are a few examples of evaluating arithmetic expressions in Python: "
   ]
  },
  {
   "cell_type": "code",
   "execution_count": 13,
   "id": "de8278c1-6ad1-4468-9de4-f9fbfcc8cfd5",
   "metadata": {},
   "outputs": [
    {
     "data": {
      "text/plain": [
       "17"
      ]
     },
     "execution_count": 13,
     "metadata": {},
     "output_type": "execute_result"
    }
   ],
   "source": [
    "# simple arithmetic expression \n",
    "# to mutiply then add integers\n",
    "(3*4)+5"
   ]
  },
  {
   "cell_type": "code",
   "execution_count": 14,
   "id": "bc893da5-53cb-4dad-b7e7-7dedb63ae810",
   "metadata": {},
   "outputs": [
    {
     "data": {
      "text/plain": [
       "3.3333333333333335"
      ]
     },
     "execution_count": 14,
     "metadata": {},
     "output_type": "execute_result"
    }
   ],
   "source": [
    "# This will convert 200 minutes \n",
    "# to hours by diving by 60\n",
    "200/60"
   ]
  },
  {
   "cell_type": "markdown",
   "id": "ff952f98-d6fa-4ddc-b4fa-a6c4c23ac348",
   "metadata": {},
   "source": [
    "## Author: \n",
    "M.Umbach"
   ]
  },
  {
   "cell_type": "code",
   "execution_count": null,
   "id": "a11f4c24-b69d-4adf-9e1f-5385e561d9dd",
   "metadata": {},
   "outputs": [],
   "source": []
  }
 ],
 "metadata": {
  "kernelspec": {
   "display_name": "Python",
   "language": "python",
   "name": "conda-env-python-py"
  },
  "language_info": {
   "codemirror_mode": {
    "name": "ipython",
    "version": 3
   },
   "file_extension": ".py",
   "mimetype": "text/x-python",
   "name": "python",
   "nbconvert_exporter": "python",
   "pygments_lexer": "ipython3",
   "version": "3.7.12"
  }
 },
 "nbformat": 4,
 "nbformat_minor": 5
}
